{
  "nbformat": 4,
  "nbformat_minor": 0,
  "metadata": {
    "colab": {
      "provenance": [],
      "authorship_tag": "ABX9TyNmAFNwsgkQf/Tsiy6zx/aB",
      "include_colab_link": true
    },
    "kernelspec": {
      "name": "python3",
      "display_name": "Python 3"
    },
    "language_info": {
      "name": "python"
    }
  },
  "cells": [
    {
      "cell_type": "markdown",
      "metadata": {
        "id": "view-in-github",
        "colab_type": "text"
      },
      "source": [
        "<a href=\"https://colab.research.google.com/github/01fe22bec405/Python/blob/main/Classwork.ipynb\" target=\"_parent\"><img src=\"https://colab.research.google.com/assets/colab-badge.svg\" alt=\"Open In Colab\"/></a>"
      ]
    },
    {
      "cell_type": "markdown",
      "source": [
        "*Function using args*"
      ],
      "metadata": {
        "id": "TgHjFl7lymdR"
      }
    },
    {
      "cell_type": "code",
      "source": [
        "def funargs(*args):\n",
        "  for item in args:\n",
        "    print(item)\n",
        "\n",
        "list=[\"vrushi\",\"paper\",\"red\",\"class\",\"bbq\"]\n",
        "funargs(*list)"
      ],
      "metadata": {
        "colab": {
          "base_uri": "https://localhost:8080/"
        },
        "id": "AnX-3C4kyyXT",
        "outputId": "16e18190-4da2-4955-b708-2b5a97b3a763"
      },
      "execution_count": 1,
      "outputs": [
        {
          "output_type": "stream",
          "name": "stdout",
          "text": [
            "vrushi\n",
            "paper\n",
            "red\n",
            "class\n",
            "bbq\n"
          ]
        }
      ]
    },
    {
      "cell_type": "markdown",
      "source": [
        "*Kwargs function usage*"
      ],
      "metadata": {
        "id": "LL6f_4Lay--E"
      }
    },
    {
      "cell_type": "code",
      "source": [
        "def greet(**kwargs):\n",
        "  print(\"Hii\")\n",
        "  for key, value in kwargs.items():\n",
        "    print(value, end=\"  \")\n",
        "\n",
        "greet(name=\"vrushabh\", usn=\"01fe22bec405\", branch=\"ECE\")"
      ],
      "metadata": {
        "colab": {
          "base_uri": "https://localhost:8080/"
        },
        "id": "-D1iE_45y_jB",
        "outputId": "e8bcf21d-65bd-4105-b114-09f8d8856e53"
      },
      "execution_count": 2,
      "outputs": [
        {
          "output_type": "stream",
          "name": "stdout",
          "text": [
            "Hii\n",
            "vrushabh  01fe22bec405  ECE  "
          ]
        }
      ]
    },
    {
      "cell_type": "markdown",
      "source": [
        "*Random Importing*"
      ],
      "metadata": {
        "id": "Gl9sXzray_yq"
      }
    },
    {
      "cell_type": "code",
      "source": [
        "import random\n",
        "\n",
        "x=random.randint(1,10)\n",
        "print(x)\n",
        "\n",
        "a=random.random()\n",
        "print(a)"
      ],
      "metadata": {
        "colab": {
          "base_uri": "https://localhost:8080/"
        },
        "id": "pkDbnkeZzBav",
        "outputId": "8405c376-78d2-4954-86f1-8fa43e8e2653"
      },
      "execution_count": 5,
      "outputs": [
        {
          "output_type": "stream",
          "name": "stdout",
          "text": [
            "1\n",
            "0.7620225581385881\n"
          ]
        }
      ]
    },
    {
      "cell_type": "markdown",
      "source": [
        "*Rock Paper Scissors*"
      ],
      "metadata": {
        "id": "cGYwinYwzBx3"
      }
    },
    {
      "cell_type": "code",
      "source": [
        "import random\n",
        "gamelist=['rock', 'paper', 'scissors']\n",
        "comp=random. choice (gamelist)\n",
        "user=input(\"Enter either rock or paper or scissors\")\n",
        "print (comp)\n",
        "print (user)\n",
        "if (comp==\"rock\" and user==\"paper\"):\n",
        "  print(\"Computer won\")\n",
        "elif (comp== \"paper\" and user==\"scissors\"):\n",
        "  print(\"You won\")\n",
        "elif(comp== \"scissors\" and user== \"paper\"):\n",
        "   print (\"Computer won\")\n",
        "else:\n",
        "  print (\"TIE\")"
      ],
      "metadata": {
        "colab": {
          "base_uri": "https://localhost:8080/"
        },
        "id": "rADfDEpozCP2",
        "outputId": "f3c3b831-c780-46a5-93ce-0ccadf688709"
      },
      "execution_count": 6,
      "outputs": [
        {
          "output_type": "stream",
          "name": "stdout",
          "text": [
            "Enter either rock or paper or scissorsPaper\n",
            "scissors\n",
            "Paper\n",
            "TIE\n"
          ]
        }
      ]
    },
    {
      "cell_type": "markdown",
      "source": [
        "*A simple lottery game*"
      ],
      "metadata": {
        "id": "1emNWdKY0DjE"
      }
    },
    {
      "cell_type": "code",
      "source": [
        "import random\n",
        "\n",
        "system = random.randint(1, 9)\n",
        "user_input = int(input(\"Enter a number between 1 to 9: \"))\n",
        "print(\"Computer's number:\", system)\n",
        "print(\"Your number:\", user_input)\n",
        "\n",
        "if system > user_input:\n",
        "    print(\"Computer Won\")\n",
        "elif system == user_input:\n",
        "    print(\"Tie\")\n",
        "else:\n",
        "    print(\"You won\")"
      ],
      "metadata": {
        "colab": {
          "base_uri": "https://localhost:8080/"
        },
        "id": "PjgqnaWx0KTV",
        "outputId": "b4e52223-093e-4fe3-8cf7-752dd0ac1478"
      },
      "execution_count": 7,
      "outputs": [
        {
          "output_type": "stream",
          "name": "stdout",
          "text": [
            "Enter a number between 1 to 9: 5\n",
            "Computer's number: 8\n",
            "Your number: 5\n",
            "Computer Won\n"
          ]
        }
      ]
    }
  ]
}